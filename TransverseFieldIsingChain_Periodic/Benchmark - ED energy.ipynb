{
  "cells": [
    {
      "cell_type": "code",
      "execution_count": 13,
      "metadata": {
        "id": "Xb_Ilf_kguto"
      },
      "outputs": [],
      "source": [
        "import numpy as np\n",
        "import matplotlib.pyplot as plt"
      ]
    },
    {
      "cell_type": "code",
      "execution_count": 14,
      "metadata": {
        "id": "lK_gDNjMF6w0"
      },
      "outputs": [],
      "source": [
        "def flip_operator(i):\n",
        "    \"\"\"\n",
        "    Flip i from 0 to 1 or 1 to 0\n",
        "\n",
        "    \"\"\"\n",
        "    return 0 if i == 1 else 1"
      ]
    },
    {
      "cell_type": "code",
      "execution_count": 15,
      "metadata": {},
      "outputs": [],
      "source": [
        "# Matrix Construction - Periodic Boundary Conditions\n",
        "\n",
        "def matrix_construction(h,N):\n",
        "\n",
        "  dimension=2**N\n",
        "\n",
        "  #spin chain with all spin-down\n",
        "  z='0'*N\n",
        "\n",
        "  # initialize hamiltonian\n",
        "  H=np.zeros((dimension,dimension))\n",
        "\n",
        "  for a in range(dimension):\n",
        "    J = 1\n",
        "    state_chain=bin(a)[2:]\n",
        "    l=len(state_chain)\n",
        "    state_chain=z[0:N-l]+state_chain\n",
        "\n",
        "    for i in range(N):\n",
        "      j=np.mod(i+1,N)\n",
        "\n",
        "      #1. For the -S^Z_(i) S^Z_(i+1) operator\n",
        "      if state_chain[i]==state_chain[j]:\n",
        "        H[a,a]+=-J\n",
        "      else:\n",
        "        H[a,a]+=J\n",
        "\n",
        "      #2. For the (-h)*(S+_{i} + S-_{i}) operator\n",
        "      element_at_i = int(state_chain[i])\n",
        "      flipped_element_at_i = flip_operator(element_at_i)\n",
        "      flipped_state_chain = str(state_chain[:i]+str(flipped_element_at_i)+state_chain[i+1:])\n",
        "      b = int(flipped_state_chain,2)\n",
        "      H[a,b]+=-h\n",
        "\n",
        "  return H"
      ]
    },
    {
      "cell_type": "code",
      "execution_count": 16,
      "metadata": {
        "id": "Zgl9CbgKwrdx"
      },
      "outputs": [],
      "source": [
        "def exact_diagonalization(H):\n",
        "\n",
        "    eig_value, eig_vector= np.linalg.eig(H) # Exact diagonalization\n",
        "    eig_value = np.real(eig_value)          # Only take the real part\n",
        "    eig_vector = np.real(eig_vector)\n",
        "\n",
        "    # Sort with eigen-energy, find the ground state wave function\n",
        "    idx_sorted1 = np.argsort(eig_value)\n",
        "    eig_value=eig_value[idx_sorted1]\n",
        "    eig_vector=eig_vector[:,idx_sorted1]\n",
        "\n",
        "    return eig_value, eig_vector"
      ]
    },
    {
      "cell_type": "code",
      "execution_count": 17,
      "metadata": {
        "colab": {
          "base_uri": "https://localhost:8080/"
        },
        "id": "b9mgsjU_GREg",
        "outputId": "7a8d039a-8aa8-48a0-93c2-1f009450406e"
      },
      "outputs": [],
      "source": [
        "h = 1 \n",
        "N = 8\n",
        "\n",
        "H = matrix_construction(h,N)\n",
        "\n",
        "eig_value, eig_vector = exact_diagonalization(H)\n",
        "eig_value_normalized = eig_value - eig_value[0]\n",
        "\n",
        "# h_round = np.round(h,3)\n",
        "# np.save(f\"eig_value_at_{h_round}\",eig_value_normalized) # store the normalized eigenvalues\n",
        "# np.save(f\"eig_vec_at_{h_round}\",eig_vector) # store the eigenvector"
      ]
    },
    {
      "cell_type": "markdown",
      "metadata": {},
      "source": [
        "Ground state energy "
      ]
    },
    {
      "cell_type": "code",
      "execution_count": 18,
      "metadata": {},
      "outputs": [
        {
          "name": "stdout",
          "output_type": "stream",
          "text": [
            "Complete the diagonalization at h = 1\n",
            "The normalized ground state energy is -1.2814577238707454\n"
          ]
        }
      ],
      "source": [
        "print(f\"Complete the diagonalization at h = {h}\")\n",
        "print(f\"The normalized ground state energy is {eig_value[0]/N}\")"
      ]
    },
    {
      "cell_type": "markdown",
      "metadata": {},
      "source": [
        "2nd order Renyi Entanglement Entropy "
      ]
    },
    {
      "cell_type": "code",
      "execution_count": 19,
      "metadata": {},
      "outputs": [],
      "source": [
        "def cal_renyi(psi,si,L,order):\n",
        "    size1 = 2**(si)\n",
        "    size2 = 2**(L-si)\n",
        "    psi = psi.reshape((size1,size2))\n",
        "    #reduced density matrix\n",
        "    rho_r = psi@psi.T\n",
        "    # print(rho_r)\n",
        "    # print(np.linalg.eig(rho_r)[0])\n",
        "    prob = np.linalg.eig(rho_r)[0]/np.trace(rho_r)\n",
        "    renyi = (1/(1-order))*np.log(np.sum(prob**order))\n",
        "    return renyi"
      ]
    },
    {
      "cell_type": "code",
      "execution_count": 20,
      "metadata": {},
      "outputs": [],
      "source": [
        "ground_state_vector = eig_vector[:,0]\n",
        "na_array = np.arange(0,N+1)\n",
        "EE_array = np.zeros(len(na_array))\n",
        "\n",
        "for i in range(0,N//2+1):\n",
        "    na = na_array[i]\n",
        "    EE_array[i] = cal_renyi(ground_state_vector ,na, N,2)"
      ]
    },
    {
      "cell_type": "code",
      "execution_count": 21,
      "metadata": {},
      "outputs": [],
      "source": [
        "# Flip along the peak \n",
        "EE_array[N//2+1:] = EE_array[:N//2][::-1]"
      ]
    },
    {
      "cell_type": "code",
      "execution_count": 22,
      "metadata": {},
      "outputs": [
        {
          "data": {
            "text/plain": [
              "<matplotlib.legend.Legend at 0x19fa953c4a0>"
            ]
          },
          "execution_count": 22,
          "metadata": {},
          "output_type": "execute_result"
        },
        {
          "data": {
            "image/png": "[encoded data removed]",
            "text/plain": [
              "<Figure size 600x500 with 1 Axes>"
            ]
          },
          "metadata": {},
          "output_type": "display_data"
        }
      ],
      "source": [
        "plt.figure(figsize=(6,5))\n",
        "\n",
        "plt.plot(na_array/N,EE_array,\"ro-\",label=\"Renyi q = 2, N = 8\")\n",
        "\n",
        "plt.xlabel(\"$l_A/N$\",fontsize=15)\n",
        "plt.ylabel(\"$S^{(2)}_A$\",fontsize=15)\n",
        "plt.axvline(x=0.5, color='red', linestyle='--')\n",
        "plt.legend(fontsize=10)"
      ]
    },
    {
      "cell_type": "code",
      "execution_count": 23,
      "metadata": {},
      "outputs": [
        {
          "name": "stdout",
          "output_type": "stream",
          "text": [
            "[-0.          0.3491792   0.43467208  0.47107634  0.48175027  0.47107634\n",
            "  0.43467208  0.3491792  -0.        ]\n"
          ]
        }
      ],
      "source": [
        "print(EE_array)"
      ]
    }
  ],
  "metadata": {
    "colab": {
      "provenance": []
    },
    "kernelspec": {
      "display_name": "base",
      "language": "python",
      "name": "python3"
    },
    "language_info": {
      "codemirror_mode": {
        "name": "ipython",
        "version": 3
      },
      "file_extension": ".py",
      "mimetype": "text/x-python",
      "name": "python",
      "nbconvert_exporter": "python",
      "pygments_lexer": "ipython3",
      "version": "3.12.3"
    }
  },
  "nbformat": 4,
  "nbformat_minor": 0
}
