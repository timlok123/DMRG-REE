{
  "cells": [
    {
      "cell_type": "code",
      "execution_count": 1,
      "metadata": {
        "id": "Xb_Ilf_kguto"
      },
      "outputs": [],
      "source": [
        "import numpy as np\n",
        "import matplotlib.pyplot as plt"
      ]
    },
    {
      "cell_type": "code",
      "execution_count": 2,
      "metadata": {
        "id": "lK_gDNjMF6w0"
      },
      "outputs": [],
      "source": [
        "def flip_operator(i):\n",
        "    \"\"\"\n",
        "    Flip i from 0 to 1 or 1 to 0\n",
        "\n",
        "    \"\"\"\n",
        "    return 0 if i == 1 else 1"
      ]
    },
    {
      "cell_type": "code",
      "execution_count": null,
      "metadata": {},
      "outputs": [],
      "source": [
        "# Matrix Construction - Periodic Boundary Conditions\n",
        "\n",
        "# def matrix_construction(h,N):\n",
        "# \n",
        "#   dimension=2**N\n",
        "# \n",
        "#   #spin chain with all spin-down\n",
        "#   z='0'*N\n",
        "# \n",
        "#   # initialize hamiltonian\n",
        "#   H=np.zeros((dimension,dimension))\n",
        "# \n",
        "#   for a in range(dimension):\n",
        "#     J = 1\n",
        "#     state_chain=bin(a)[2:]\n",
        "#     l=len(state_chain)\n",
        "#     state_chain=z[0:N-l]+state_chain\n",
        "# \n",
        "#     for i in range(N):\n",
        "#       j=np.mod(i+1,N)\n",
        "# \n",
        "#       #1. For the -S^Z_(i) S^Z_(i+1) operator\n",
        "#       if state_chain[i]==state_chain[j]:\n",
        "#         H[a,a]+=-J\n",
        "#       else:\n",
        "#         H[a,a]+=J\n",
        "# \n",
        "#       #2. For the (-h)*(S+_{i} + S-_{i}) operator\n",
        "#       element_at_i = int(state_chain[i])\n",
        "#       flipped_element_at_i = flip_operator(element_at_i)\n",
        "#       flipped_state_chain = str(state_chain[:i]+str(flipped_element_at_i)+state_chain[i+1:])\n",
        "#       b = int(flipped_state_chain,2)\n",
        "#       H[a,b]+=-h\n",
        "# \n",
        "#   return H"
      ]
    },
    {
      "cell_type": "code",
      "execution_count": null,
      "metadata": {
        "id": "NrBj9S8VGPhB"
      },
      "outputs": [],
      "source": [
        "# Matrix Construction - Open Boundary Conditions\n",
        "\n",
        "def matrix_construction(h,N):\n",
        "\n",
        "  dimension=2**N\n",
        "\n",
        "  #spin chain with all spin-down\n",
        "  z='0'*N\n",
        "\n",
        "  # initialize hamiltonian\n",
        "  H=np.zeros((dimension,dimension))\n",
        "\n",
        "  for a in range(dimension):\n",
        "    J = 1\n",
        "    state_chain=bin(a)[2:]\n",
        "    l=len(state_chain)\n",
        "    state_chain=z[0:N-l]+state_chain\n",
        "\n",
        "    #1. For the -S^Z_(i) S^Z_(i+1) operator\n",
        "    for i in range(N-1): \n",
        "      j=np.mod(i+1,N)\n",
        "      if state_chain[i]==state_chain[j]:\n",
        "        H[a,a]+=-J\n",
        "      else:\n",
        "        H[a,a]+=J\n",
        "\n",
        "    #2. For the (-h)*(S+_{i} + S-_{i}) operator\n",
        "    for i in range(N):\n",
        "      element_at_i = int(state_chain[i])\n",
        "      flipped_element_at_i = flip_operator(element_at_i)\n",
        "      flipped_state_chain = str(state_chain[:i]+str(flipped_element_at_i)+state_chain[i+1:])\n",
        "      b = int(flipped_state_chain,2)\n",
        "      H[a,b]+=-h\n",
        "\n",
        "  return H"
      ]
    },
    {
      "cell_type": "code",
      "execution_count": 4,
      "metadata": {
        "id": "Zgl9CbgKwrdx"
      },
      "outputs": [],
      "source": [
        "def exact_diagonalization(H):\n",
        "\n",
        "    eig_value, eig_vector= np.linalg.eig(H) # Exact diagonalization\n",
        "    eig_value = np.real(eig_value)          # Only take the real part\n",
        "    eig_vector = np.real(eig_vector)\n",
        "\n",
        "    # Sort with eigen-energy, find the ground state wave function\n",
        "    idx_sorted1 = np.argsort(eig_value)\n",
        "    eig_value=eig_value[idx_sorted1]\n",
        "    eig_vector=eig_vector[:,idx_sorted1]\n",
        "\n",
        "    return eig_value, eig_vector"
      ]
    },
    {
      "cell_type": "code",
      "execution_count": null,
      "metadata": {
        "colab": {
          "base_uri": "https://localhost:8080/"
        },
        "id": "b9mgsjU_GREg",
        "outputId": "7a8d039a-8aa8-48a0-93c2-1f009450406e"
      },
      "outputs": [
        {
          "name": "stdout",
          "output_type": "stream",
          "text": [
            "Complete the diagonalization at h = 1\n",
            "The normalized ground state energy is -1.189692620785909\n"
          ]
        }
      ],
      "source": [
        "h_array = np.array([1])\n",
        "N = 4\n",
        "\n",
        "for h in h_array:\n",
        "\n",
        "  H = matrix_construction(h,N)\n",
        "\n",
        "  eig_value, eig_vector = exact_diagonalization(H)\n",
        "  eig_value_normalized = eig_value - eig_value[0]\n",
        "\n",
        "  h_round = np.round(h,3)\n",
        "\n",
        "  # np.save(f\"eig_value_at_{h_round}\",eig_value_normalized) # store the normalized eigenvalues\n",
        "  # np.save(f\"eig_vec_at_{h_round}\",eig_vector) # store the eigenvector\n",
        "  print(f\"Complete the diagonalization at h = {h}\")\n",
        "  print(f\"The normalized ground state energy is {eig_value[0]/N}\")"
      ]
    }
  ],
  "metadata": {
    "colab": {
      "provenance": []
    },
    "kernelspec": {
      "display_name": "base",
      "language": "python",
      "name": "python3"
    },
    "language_info": {
      "codemirror_mode": {
        "name": "ipython",
        "version": 3
      },
      "file_extension": ".py",
      "mimetype": "text/x-python",
      "name": "python",
      "nbconvert_exporter": "python",
      "pygments_lexer": "ipython3",
      "version": "3.12.3"
    }
  },
  "nbformat": 4,
  "nbformat_minor": 0
}
